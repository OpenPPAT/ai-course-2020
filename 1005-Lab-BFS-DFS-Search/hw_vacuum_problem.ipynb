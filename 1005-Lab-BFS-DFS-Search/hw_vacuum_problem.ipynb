{
  "nbformat": 4,
  "nbformat_minor": 0,
  "metadata": {
    "kernelspec": {
      "display_name": "Python 2",
      "language": "python",
      "name": "python2"
    },
    "language_info": {
      "codemirror_mode": {
        "name": "ipython",
        "version": 2
      },
      "file_extension": ".py",
      "mimetype": "text/x-python",
      "name": "python",
      "nbconvert_exporter": "python",
      "pygments_lexer": "ipython2",
      "version": "2.7.15+"
    },
    "colab": {
      "name": "hw_vacuum_problem.ipynb",
      "provenance": [],
      "collapsed_sections": []
    }
  },
  "cells": [
    {
      "cell_type": "markdown",
      "metadata": {
        "id": "srrwaD8aWGkw"
      },
      "source": [
        "# HW Multi Location Vacuum Problem\n",
        "We want to add mobility of the vacuum robot to clean the place. By expanding to two dimensional space and up to 9-places, the problem may be more complex.\n",
        "![hi](https://drive.google.com/uc?id=1Cy044YeGscP-SHW6ngS6L4gLnP0Z9dT9)"
      ]
    },
    {
      "cell_type": "markdown",
      "metadata": {
        "id": "n4Ig2S_7WGky"
      },
      "source": [
        "In this question, you need to define the problem by yourself. The problem is limited by following rule:\n",
        "- The vacuum robot agent can go **(Left, Right, Up, Down)** and clean the place by **Sucking** action.\n",
        "- The place can be index 0~8 from left-top to right-bottom.\n",
        "- The goal is that: there is no dirt in all place.\n",
        "- If robot is located on edge of places, the going outside action **is not allowed**.\n",
        "- If robot is located on the clean place, the clean action **is not allowed**.\n"
      ]
    },
    {
      "cell_type": "markdown",
      "metadata": {
        "id": "U9-LivBNWGky"
      },
      "source": [
        "## 1. Import python package"
      ]
    },
    {
      "cell_type": "code",
      "metadata": {
        "id": "V2BYtAu-WGkz"
      },
      "source": [
        "import math\n",
        "import sys\n",
        "\n",
        "# For some data structure implementation\n",
        "import heapq\n",
        "from collections import defaultdict, deque, Counter"
      ],
      "execution_count": null,
      "outputs": []
    },
    {
      "cell_type": "markdown",
      "metadata": {
        "id": "ekRKvU8qWGk1"
      },
      "source": [
        "## 2. Problem class definition"
      ]
    },
    {
      "cell_type": "code",
      "metadata": {
        "id": "yPyVyrBIWGk1"
      },
      "source": [
        "class Problem(object):\n",
        "    def __init__(self, initial=None, goal=None, **other_keywords):\n",
        "        \"\"\"Specify the initial and goal states.\n",
        "        Subclasses can use other keywords if they want.\"\"\"\n",
        "        self.__dict__.update(initial=initial, goal=goal, **other_keywords) \n",
        "\n",
        "    def actions(self, state):           raise NotImplementedError\n",
        "    def result(self, state, action):    raise NotImplementedError\n",
        "    def is_goal(self, state):           return state == self.goal\n",
        "    def step_cost(self, s, action, s1): return 1\n",
        "    def h(self, node):                  return 0"
      ],
      "execution_count": null,
      "outputs": []
    },
    {
      "cell_type": "markdown",
      "metadata": {
        "id": "hek_nI9bWGk3"
      },
      "source": [
        "## 3. Node definition"
      ]
    },
    {
      "cell_type": "code",
      "metadata": {
        "id": "pi6XezJNWGk3"
      },
      "source": [
        "class Node:\n",
        "    '''A Node in a search tree.'''\n",
        "    def __init__(self, state, parent=None, action=None, path_cost=0):\n",
        "        # __dict__ store this object's all attributes\n",
        "        self.__dict__.update(state=state, parent=parent, action=action, path_cost=path_cost)\n",
        "    \n",
        "    '''All Reserve words are not introduced here. If you are interest in them, please Google them'''\n",
        "    # __repr__ is a built-in function used to compute the '''official''' string reputation of an object.\n",
        "    def __repr__(self): return '<{}>'.format(self.state)\n",
        "    def __len__(self): return 0 if self.parent is None else (1 + len(self.parent))\n",
        "    def __lt__(self, other): return self.state < other.state\n",
        "    \n",
        "failure = Node('failure', path_cost=float('inf')) # Indicates an algorithm couldn't find a solution.\n",
        "cutoff  = Node('cutoff',  path_cost=float('inf')) # Indicates iterative deeepening search was cut off.\n",
        "\n",
        "def expand(problem, node):\n",
        "    '''Expand a node, generating the children nodes.'''\n",
        "    s = node.state\n",
        "    for action in problem.actions(s): \n",
        "        s1 = problem.result(s, action)\n",
        "        cost = node.path_cost + problem.step_cost(s, action, s1)\n",
        "        yield Node(s1, node, action, cost)\n",
        "        \n",
        "\n",
        "def path_actions(node):\n",
        "    '''The sequence of actions to get to this node.'''\n",
        "    if node.parent is None:\n",
        "        return []\n",
        "    else: \n",
        "        return path_actions(node.parent) + [node.action]\n",
        "\n",
        "\n",
        "def path_states(node):\n",
        "    '''The sequence of states to get to this node.'''\n",
        "    if node.parent is None:\n",
        "        return ([] + [node.state])\n",
        "    else:\n",
        "        return (path_states(node.parent)) + [node.state]\n",
        "\n",
        "\n",
        "def path(node):\n",
        "    '''Alternating states and actions to get to this node.'''\n",
        "    if node.parent is None:\n",
        "        return ([] + [node.state])\n",
        "    else:\n",
        "        return (path(node.parent) + [node.action] ) + [node.state]"
      ],
      "execution_count": null,
      "outputs": []
    },
    {
      "cell_type": "markdown",
      "metadata": {
        "id": "bXn_-CSJWGk5"
      },
      "source": [
        "## 4. Search Algorithms"
      ]
    },
    {
      "cell_type": "code",
      "metadata": {
        "id": "gsAbPz5yWGk5"
      },
      "source": [
        "FIFOQueue = deque\n",
        "LIFOQueue = list\n",
        "\n",
        "def depth_limited_search(problem, limit=20):\n",
        "    \"Search deepest nodes in the search tree first.\"\n",
        "    frontier = LIFOQueue([Node(problem.initial)])\n",
        "    solution = failure\n",
        "    while frontier:\n",
        "        node = frontier.pop()\n",
        "        if len(node) > limit:\n",
        "            solution = cutoff\n",
        "        else:\n",
        "            for child in expand(problem, node):\n",
        "                if problem.is_goal(child.state):\n",
        "                    return child\n",
        "                frontier.append(child)\n",
        "    return solution\n",
        "\n",
        "def breadth_first_search(problem):\n",
        "    \"Search shallowest nodes in the search tree first.\"\n",
        "    frontier = FIFOQueue([Node(problem.initial)])\n",
        "    reached = set()\n",
        "    while frontier:\n",
        "        node = frontier.pop()\n",
        "        if problem.is_goal(node.state):\n",
        "            return node\n",
        "        for child in expand(problem, node):\n",
        "            s = child.state\n",
        "            if s not in reached:\n",
        "                reached.add(s)\n",
        "                frontier.appendleft(child)\n",
        "    return failure\n",
        "        "
      ],
      "execution_count": null,
      "outputs": []
    },
    {
      "cell_type": "code",
      "metadata": {
        "id": "UHYnewBIWGk7"
      },
      "source": [
        "class CountCalls:\n",
        "    \"\"\"Delegate all attribute accesses to the object, and count them in ._counts\"\"\"\n",
        "    def __init__(self, obj):\n",
        "        self._object = obj\n",
        "        self._counts = Counter()\n",
        "        \n",
        "    def __getattr__(self, attr):\n",
        "        self._counts[attr] += 1\n",
        "        return getattr(self._object, attr)\n",
        "        \n",
        "def report(searchers, problems):\n",
        "    \"Show metrics for each searcher on each problem.\"\n",
        "    for searcher in searchers:\n",
        "        print(searcher.__name__ + ':')\n",
        "        total_counts = Counter()\n",
        "        for p in problems:\n",
        "            prob   = CountCalls(p)\n",
        "            soln   = searcher(prob)\n",
        "            counts = prob._counts; \n",
        "            counts.update(len=len(path_actions(soln)), cost=soln.path_cost)\n",
        "            total_counts += counts\n",
        "            report_line(counts, type(p).__name__)\n",
        "        report_line(total_counts, 'TOTAL\\n')\n",
        "        \n",
        "def report_line(counts, name):\n",
        "    \"Print one line of the report.\"\n",
        "    print('{:9,d} explored |{:7,d} goal |{:5.0f} cost |{:3d} steps | {}'\n",
        "          .format(counts['result'], counts['is_goal'], \n",
        "                  counts['cost'], counts['len'], name))"
      ],
      "execution_count": null,
      "outputs": []
    },
    {
      "cell_type": "markdown",
      "metadata": {
        "id": "QxrgG2W1WGk9"
      },
      "source": [
        "# MultiLocationVacuumProblem\n",
        "<font color=\"red\">\n",
        "    <h3>Fill in the ??? and verify the code to implement BFS and DFS for this problem. </h3>\n",
        "</font>"
      ]
    },
    {
      "cell_type": "code",
      "metadata": {
        "id": "HtMgi4rzWGk9"
      },
      "source": [
        "dirt  = '*'\n",
        "clean = ' '\n",
        "\n",
        "def board8(state, fmt=('{} {} {}\\n{} {} {}\\n{} {} {}\\n')):\n",
        "    \"A string representing an 8-puzzle board\"\n",
        "    loc = int(state[0])\n",
        "    dirt = list(state[1:])\n",
        "    if dirt[loc] == clean: dirt[loc] = '◯'\n",
        "    else: dirt[loc] = '⊕'\n",
        "    return fmt.format(*dirt)\n",
        "\n",
        "class MultiLocationVacuumProblem(Problem):    \n",
        "    def actions(self, state): \n",
        "                \n",
        "        loc = int(state[0])\n",
        "        dirt = state[1:]\n",
        "        \n",
        "        action_set = ['L', 'R', 'U', 'D', 'S']\n",
        "        if loc in (??, ??, ??): action_set.remove('L')\n",
        "        if loc in (??, ??, ??): action_set.remove('U')\n",
        "        if loc in (??, ??, ??): action_set.remove('D')\n",
        "        if loc in (??, ??, ??): action_set.remove('R')\n",
        "        if dirt[loc] == clean: action_set.remove('S')\n",
        "        \n",
        "        return (tuple(action_set))\n",
        "        \n",
        "    \n",
        "    def is_goal(self, state):\n",
        "        '''\n",
        "        According to the goal described in top of this file, \n",
        "        the function will return true or false that whether\n",
        "        the dirt is existed in the any state.\n",
        "        \n",
        "        return ???\n",
        "        '''\n",
        "    \n",
        "    def result(self, state, action):   \n",
        "        '''\n",
        "        \n",
        "        loc = int(state[0])\n",
        "        dirt = list(state[1:])\n",
        "        \n",
        "        if action == 'L':\n",
        "            # do something when action == Left move\n",
        "        \n",
        "            return tuple(str(loc))+ tuple(dirt)\n",
        "        elif action == 'R':\n",
        "            # do something when action == Right move\n",
        "        \n",
        "            return tuple(str(loc))+ tuple(dirt)\n",
        "        elif action == 'U':\n",
        "            # do something when action == Up move\n",
        "        \n",
        "            return tuple(str(loc))+ tuple(dirt)\n",
        "        elif action == 'D':\n",
        "            # do something when action == Down move\n",
        "        \n",
        "            return tuple(str(loc))+ tuple(dirt)\n",
        "        elif action == 'S':\n",
        "            # do something when action == Suck\n",
        "        \n",
        "            return tuple(str(loc))+ tuple(dirt)\n",
        "        else: raise ValueRrror('unknown action: ' + action)\n",
        "        '''"
      ],
      "execution_count": null,
      "outputs": []
    },
    {
      "cell_type": "code",
      "metadata": {
        "id": "rO_Np1HxWGk_",
        "outputId": "f89f135d-0d40-41e7-b42c-8ffb91bcb85b",
        "colab": {
          "base_uri": "https://localhost:8080/",
          "height": 34
        }
      },
      "source": [
        "# Test the problem declaration is correct or not\n",
        "initial_state = (0, '*', ' ', '*', ' ', '*', ' ', '*', ' ', '*')\n",
        "\n",
        "\n",
        "p1 = MultiLocationVacuumProblem(initial_state)\n",
        "print(p1.initial)\n",
        "p1.result(p1.initial, 'D')"
      ],
      "execution_count": null,
      "outputs": [
        {
          "output_type": "stream",
          "text": [
            "(0, '*', ' ', '*', ' ', '*', ' ', '*', ' ', '*')\n"
          ],
          "name": "stdout"
        }
      ]
    },
    {
      "cell_type": "code",
      "metadata": {
        "id": "neFhLf3DWGlB",
        "outputId": "616776dd-716b-40bc-9b19-37786ed86372",
        "colab": {
          "base_uri": "https://localhost:8080/",
          "height": 379
        }
      },
      "source": [
        "initial_state = (3, ' ', '*', '*', ' ', '*', ' ', '*', ' ', '*')\n",
        "p1 = MultiLocationVacuumProblem(initial=initial_state)\n",
        "\n",
        "# result_graph = depth_limited_search(problem=p1, limit=20)\n",
        "result_graph = breadth_first_search(problem=p1)\n",
        "# Take a look the state sequence of the result\n",
        "for s in path_states(result_graph):\n",
        "    print(board8(s))"
      ],
      "execution_count": null,
      "outputs": [
        {
          "output_type": "error",
          "ename": "TypeError",
          "evalue": "ignored",
          "traceback": [
            "\u001b[0;31m\u001b[0m",
            "\u001b[0;31mTypeError\u001b[0mTraceback (most recent call last)",
            "\u001b[0;32m<ipython-input-8-9d3e75f03b73>\u001b[0m in \u001b[0;36m<module>\u001b[0;34m()\u001b[0m\n\u001b[1;32m      3\u001b[0m \u001b[0;34m\u001b[0m\u001b[0m\n\u001b[1;32m      4\u001b[0m \u001b[0;31m# result_graph = depth_limited_search(problem=p1, limit=20)\u001b[0m\u001b[0;34m\u001b[0m\u001b[0;34m\u001b[0m\u001b[0m\n\u001b[0;32m----> 5\u001b[0;31m \u001b[0mresult_graph\u001b[0m \u001b[0;34m=\u001b[0m \u001b[0mbreadth_first_search\u001b[0m\u001b[0;34m(\u001b[0m\u001b[0mproblem\u001b[0m\u001b[0;34m=\u001b[0m\u001b[0mp1\u001b[0m\u001b[0;34m)\u001b[0m\u001b[0;34m\u001b[0m\u001b[0m\n\u001b[0m\u001b[1;32m      6\u001b[0m \u001b[0;31m# Take a look the state sequence of the result\u001b[0m\u001b[0;34m\u001b[0m\u001b[0;34m\u001b[0m\u001b[0m\n\u001b[1;32m      7\u001b[0m \u001b[0;32mfor\u001b[0m \u001b[0ms\u001b[0m \u001b[0;32min\u001b[0m \u001b[0mpath_states\u001b[0m\u001b[0;34m(\u001b[0m\u001b[0mresult_graph\u001b[0m\u001b[0;34m)\u001b[0m\u001b[0;34m:\u001b[0m\u001b[0;34m\u001b[0m\u001b[0m\n",
            "\u001b[0;32m<ipython-input-4-9b68516005a2>\u001b[0m in \u001b[0;36mbreadth_first_search\u001b[0;34m(problem)\u001b[0m\n\u001b[1;32m     25\u001b[0m         \u001b[0;32mif\u001b[0m \u001b[0mproblem\u001b[0m\u001b[0;34m.\u001b[0m\u001b[0mis_goal\u001b[0m\u001b[0;34m(\u001b[0m\u001b[0mnode\u001b[0m\u001b[0;34m.\u001b[0m\u001b[0mstate\u001b[0m\u001b[0;34m)\u001b[0m\u001b[0;34m:\u001b[0m\u001b[0;34m\u001b[0m\u001b[0m\n\u001b[1;32m     26\u001b[0m             \u001b[0;32mreturn\u001b[0m \u001b[0mnode\u001b[0m\u001b[0;34m\u001b[0m\u001b[0m\n\u001b[0;32m---> 27\u001b[0;31m         \u001b[0;32mfor\u001b[0m \u001b[0mchild\u001b[0m \u001b[0;32min\u001b[0m \u001b[0mexpand\u001b[0m\u001b[0;34m(\u001b[0m\u001b[0mproblem\u001b[0m\u001b[0;34m,\u001b[0m \u001b[0mnode\u001b[0m\u001b[0;34m)\u001b[0m\u001b[0;34m:\u001b[0m\u001b[0;34m\u001b[0m\u001b[0m\n\u001b[0m\u001b[1;32m     28\u001b[0m             \u001b[0ms\u001b[0m \u001b[0;34m=\u001b[0m \u001b[0mchild\u001b[0m\u001b[0;34m.\u001b[0m\u001b[0mstate\u001b[0m\u001b[0;34m\u001b[0m\u001b[0m\n\u001b[1;32m     29\u001b[0m             \u001b[0;32mif\u001b[0m \u001b[0ms\u001b[0m \u001b[0;32mnot\u001b[0m \u001b[0;32min\u001b[0m \u001b[0mreached\u001b[0m\u001b[0;34m:\u001b[0m\u001b[0;34m\u001b[0m\u001b[0m\n",
            "\u001b[0;32m<ipython-input-3-50c41961e94e>\u001b[0m in \u001b[0;36mexpand\u001b[0;34m(problem, node)\u001b[0m\n\u001b[1;32m     17\u001b[0m     \u001b[0;34m'''Expand a node, generating the children nodes.'''\u001b[0m\u001b[0;34m\u001b[0m\u001b[0m\n\u001b[1;32m     18\u001b[0m     \u001b[0ms\u001b[0m \u001b[0;34m=\u001b[0m \u001b[0mnode\u001b[0m\u001b[0;34m.\u001b[0m\u001b[0mstate\u001b[0m\u001b[0;34m\u001b[0m\u001b[0m\n\u001b[0;32m---> 19\u001b[0;31m     \u001b[0;32mfor\u001b[0m \u001b[0maction\u001b[0m \u001b[0;32min\u001b[0m \u001b[0mproblem\u001b[0m\u001b[0;34m.\u001b[0m\u001b[0mactions\u001b[0m\u001b[0;34m(\u001b[0m\u001b[0ms\u001b[0m\u001b[0;34m)\u001b[0m\u001b[0;34m:\u001b[0m\u001b[0;34m\u001b[0m\u001b[0m\n\u001b[0m\u001b[1;32m     20\u001b[0m         \u001b[0ms1\u001b[0m \u001b[0;34m=\u001b[0m \u001b[0mproblem\u001b[0m\u001b[0;34m.\u001b[0m\u001b[0mresult\u001b[0m\u001b[0;34m(\u001b[0m\u001b[0ms\u001b[0m\u001b[0;34m,\u001b[0m \u001b[0maction\u001b[0m\u001b[0;34m)\u001b[0m\u001b[0;34m\u001b[0m\u001b[0m\n\u001b[1;32m     21\u001b[0m         \u001b[0mcost\u001b[0m \u001b[0;34m=\u001b[0m \u001b[0mnode\u001b[0m\u001b[0;34m.\u001b[0m\u001b[0mpath_cost\u001b[0m \u001b[0;34m+\u001b[0m \u001b[0mproblem\u001b[0m\u001b[0;34m.\u001b[0m\u001b[0mstep_cost\u001b[0m\u001b[0;34m(\u001b[0m\u001b[0ms\u001b[0m\u001b[0;34m,\u001b[0m \u001b[0maction\u001b[0m\u001b[0;34m,\u001b[0m \u001b[0ms1\u001b[0m\u001b[0;34m)\u001b[0m\u001b[0;34m\u001b[0m\u001b[0m\n",
            "\u001b[0;31mTypeError\u001b[0m: 'NoneType' object is not iterable"
          ]
        }
      ]
    },
    {
      "cell_type": "code",
      "metadata": {
        "id": "FF3cF16lWGlD"
      },
      "source": [
        "report([breadth_first_search, depth_limited_search], [p1])"
      ],
      "execution_count": null,
      "outputs": []
    }
  ]
}